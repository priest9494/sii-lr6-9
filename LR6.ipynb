{
 "cells": [
  {
   "cell_type": "code",
   "execution_count": 1,
   "metadata": {},
   "outputs": [],
   "source": [
    "import pymorphy2"
   ]
  },
  {
   "cell_type": "markdown",
   "metadata": {},
   "source": [
    "## Алгоритм"
   ]
  },
  {
   "cell_type": "code",
   "execution_count": 2,
   "metadata": {},
   "outputs": [],
   "source": [
    "morph = pymorphy2.MorphAnalyzer()"
   ]
  },
  {
   "cell_type": "code",
   "execution_count": 3,
   "metadata": {},
   "outputs": [],
   "source": [
    "def wordToNormalWord(word):\n",
    "    return morph.parse(word)[0].normal_form"
   ]
  },
  {
   "cell_type": "code",
   "execution_count": 4,
   "metadata": {},
   "outputs": [],
   "source": [
    "def arrayToNoramlArray(array):\n",
    "    normalArr = []\n",
    "    for i in range(len(array)):\n",
    "        normalArr.append(wordToNormalWord(array[i]))\n",
    "        \n",
    "    return normalArr"
   ]
  },
  {
   "cell_type": "code",
   "execution_count": 5,
   "metadata": {},
   "outputs": [],
   "source": [
    "def mapToNormalMap(tagMap):\n",
    "    normalTagMap = {}\n",
    "    for key in tagMap:\n",
    "        normalTagMap[key] = arrayToNoramlArray(tagMap[key])\n",
    "    \n",
    "    return normalTagMap"
   ]
  },
  {
   "cell_type": "code",
   "execution_count": 6,
   "metadata": {},
   "outputs": [],
   "source": [
    "def stringToNormalArrayOfWords(str1):\n",
    "    normalArr = []\n",
    "    arr = str1.split()\n",
    "    for word in arr:\n",
    "        normalArr.append(wordToNormalWord(word))\n",
    "        \n",
    "    return normalArr"
   ]
  },
  {
   "cell_type": "code",
   "execution_count": 7,
   "metadata": {},
   "outputs": [],
   "source": [
    "def getTagFromNormalWordUsingNormalTagMap(word, normalTagMap):\n",
    "    for key in normalTagMap:\n",
    "        if word in normalTagMap[key]:\n",
    "            return key\n",
    "        \n",
    "    return -1"
   ]
  },
  {
   "cell_type": "code",
   "execution_count": 8,
   "metadata": {},
   "outputs": [],
   "source": [
    "def arrayOfWordsToArrayOfTagsUsingNormalTagMap(arrayOfWords, normalTagMap):\n",
    "    arrayOfTags = []\n",
    "    for word in arrayOfWords:\n",
    "        tag = getTagFromNormalWordUsingNormalTagMap(word, normalTagMap)\n",
    "        if tag != -1:\n",
    "            arrayOfTags.append(tag)\n",
    "            \n",
    "    return arrayOfTags"
   ]
  },
  {
   "cell_type": "code",
   "execution_count": 9,
   "metadata": {},
   "outputs": [],
   "source": [
    "def compareTagArrays(arr1, arr2):\n",
    "    if len(arr1) != len(arr2):\n",
    "        return 0\n",
    "    \n",
    "    arr1.sort()\n",
    "    arr2.sort()\n",
    "    \n",
    "    for i in range(len(arr1)):\n",
    "        if arr1[i] != arr2[i]:\n",
    "            return 0\n",
    "    \n",
    "    return 1"
   ]
  },
  {
   "cell_type": "code",
   "execution_count": 10,
   "metadata": {},
   "outputs": [],
   "source": [
    "def getAnswer(question, normalTagMap, questions, answers):\n",
    "    normalArray = stringToNormalArrayOfWords(question)\n",
    "    \n",
    "    tagArr = arrayOfWordsToArrayOfTagsUsingNormalTagMap(normalArray, normalTagMap)\n",
    "    \n",
    "    for key in questions:\n",
    "        if compareTagArrays(questions[key], tagArr) == 1:\n",
    "            return answers[key]\n",
    "        \n",
    "    return answers['default']"
   ]
  },
  {
   "cell_type": "markdown",
   "metadata": {},
   "source": [
    "## Данные"
   ]
  },
  {
   "cell_type": "code",
   "execution_count": 11,
   "metadata": {},
   "outputs": [],
   "source": [
    "tagMap = {\n",
    "    1: ['пуэр', 'пуэра'],\n",
    "    2: ['зеленый'],\n",
    "    3: ['черный'],\n",
    "    4: ['улун'],\n",
    "    5: ['чай'],\n",
    "    6: ['утро', 'утром'],\n",
    "    7: ['ночь', 'ночью'],\n",
    "    11: ['какой', 'какова', 'какая', 'подскажи', 'чем'],\n",
    "    12: ['сколько'],\n",
    "    13: ['как'],\n",
    "    101: ['грамм'],\n",
    "    102: ['стоит', 'цена', 'стоимость'],\n",
    "    104: ['температура'],\n",
    "    106: ['польза'],\n",
    "    107: ['расслабляет'],\n",
    "    1001: ['приготовить', 'заварить', 'готовить', 'заварка'],\n",
    "    1002: ['насыпать', 'положить', 'надо'],\n",
    "    1003: ['пить', 'употреблять', 'выпить'],\n",
    "    1004: ['крепкий', 'проснуться', 'жмыхает', 'жмыхнуло'],\n",
    "    1005: ['польза', 'полезен']\n",
    "}"
   ]
  },
  {
   "cell_type": "code",
   "execution_count": 12,
   "metadata": {},
   "outputs": [],
   "source": [
    "normalTagMap = mapToNormalMap(tagMap)"
   ]
  },
  {
   "cell_type": "code",
   "execution_count": 13,
   "metadata": {},
   "outputs": [
    {
     "name": "stdout",
     "output_type": "stream",
     "text": [
      "[11, 5, 1003, 6]\n"
     ]
    }
   ],
   "source": [
    "str1 = 'Какой чай можно пить на утро'\n",
    "normalArray = stringToNormalArrayOfWords(str1)\n",
    "tagArr = arrayOfWordsToArrayOfTagsUsingNormalTagMap(normalArray, normalTagMap)\n",
    "print(tagArr)"
   ]
  },
  {
   "cell_type": "code",
   "execution_count": 14,
   "metadata": {},
   "outputs": [
    {
     "name": "stdout",
     "output_type": "stream",
     "text": [
      "[12, 101, 1, 1002]\n"
     ]
    }
   ],
   "source": [
    "str1 = 'Сколько грамм пуэра насыпать на кружку воды'\n",
    "normalArray = stringToNormalArrayOfWords(str1)\n",
    "tagArr = arrayOfWordsToArrayOfTagsUsingNormalTagMap(normalArray, normalTagMap)\n",
    "print(tagArr)"
   ]
  },
  {
   "cell_type": "code",
   "execution_count": 15,
   "metadata": {},
   "outputs": [],
   "source": [
    "questions = {\n",
    "    'default': [],\n",
    "    'puerTemp': [1, 11, 104, 1001],\n",
    "    'oolongTemp': [4, 11, 104, 1001],\n",
    "    'greenTemp': [2, 11, 104, 1001],\n",
    "    'blackTemp': [3, 11, 104, 1001],\n",
    "    'puerWeight': [12, 101, 1, 1002],\n",
    "    'oolongWeight': [12, 101, 4, 1002],\n",
    "    'blackWeight': [12, 101, 2, 1002],\n",
    "    'greenWeight': [12, 101, 3, 1002],\n",
    "    'howPreparePuer': [13, 1001, 1],\n",
    "    'howPrepareOolong': [13, 1001, 2],\n",
    "    'howPrepareGreen': [13, 1001, 3],\n",
    "    'howPrepareBlack': [13, 1001, 4],\n",
    "    'puerProfit': [11, 1005, 1],\n",
    "    'oolongProfit': [11, 1005, 4],\n",
    "    'puerPrice': [11, 102, 1],\n",
    "    'oolongPrice': [11, 102, 4],\n",
    "    'relaxTea': [11, 5, 107],\n",
    "    'zhmyh1': [11, 5, 1004],\n",
    "    'zhmyh2': [11, 5, 1003, 1004],\n",
    "    'nightTea': [11, 5, 1003, 7],\n",
    "    'morningTea': [11, 5, 1003, 6]\n",
    "}"
   ]
  },
  {
   "cell_type": "code",
   "execution_count": 16,
   "metadata": {},
   "outputs": [],
   "source": [
    "answers = {\n",
    "    'default': 'Я не понимаю вопрос :(',\n",
    "    'puerTemp': 'Пуэр надо заваривать при 96 градусах Цельсия',\n",
    "    'oolongTemp': 'Улун надо заваривать при 88 градусах Цельсия',\n",
    "    'greenTemp': 'Зеленый чай надо заваривать при 94 градусах Цельсия',\n",
    "    'blackTemp': 'Черный чай надо заваривать при 100 градусах Цельсия',\n",
    "    'puerWeight': 'Нужно 4 грамма на кружку',\n",
    "    'oolongWeight': 'Нужно 6 грамм на кружку',\n",
    "    'blackWeight': 'Нужно 4 грамма на кружку',\n",
    "    'greenWeight': 'Нужно 5 грамм на кружку',\n",
    "    'howPreparePuer': 'Заварить 4 грамма при 96 градусах',\n",
    "    'howPrepareOolong': 'Заварить 3 грамма при 95 градусах',\n",
    "    'howPrepareGreen': 'Заварить 2 грамма при 91 градусах',\n",
    "    'howPrepareBlack': 'Заварить 4 грамма при 92 градусах',\n",
    "    'puerProfit': 'Бодрит',\n",
    "    'oolongProfit': 'Расслабляет',\n",
    "    'puerPrice': 'Средняя стоимость - 600 руб на 100 грамм',\n",
    "    'oolongPrice': 'Средняя стоимость - 500 руб на 100 грамм',\n",
    "    'relaxTea': 'Как вариант, можно выпить улуна',\n",
    "    'zhmyh1': 'Определенно пуэр!',\n",
    "    'zhmyh2': 'Определенно пуэр!',\n",
    "    'nightTea': 'На ночь лучше попить трав',\n",
    "    'morningTea': 'Пуэр может помочь взбодриться'\n",
    "}"
   ]
  },
  {
   "cell_type": "markdown",
   "metadata": {},
   "source": [
    "## Демонстрация диалога"
   ]
  },
  {
   "cell_type": "code",
   "execution_count": 17,
   "metadata": {},
   "outputs": [],
   "source": [
    "questionExamples = [\n",
    "    'При какой температуре заварить пуэр',\n",
    "    'Какова температура воды при заварке пуэра',\n",
    "    'При какой температуре заварить улун',\n",
    "    'Какова температура воды при заварке улуна',\n",
    "    'При какой температуре заварить черный чаек',\n",
    "    'При какой температуре заварить зеленый чаек',\n",
    "    \n",
    "    'Сколько грамм пуэра насыпать на кружку воды',\n",
    "    'Сколько грамм зеленого насыпать на кружку воды',\n",
    "    'Сколько грамм черного насыпать на кружку воды',\n",
    "    'Сколько грамм улуна насыпать на кружку воды',\n",
    "    'Сколько грамм пуэра надо на одну кружку воды',\n",
    "    'Сколько грамм улуна надо на одну кружку воды',\n",
    "    \n",
    "    'Как правильно приготовить пуэр',\n",
    "    'Как правильно приготовить улун',\n",
    "    'Как правильно приготовить зеленый чаёк',\n",
    "    'Как правильно приготовить черный чаёк',\n",
    "    'Как правильно заварить черный чаёк',\n",
    "    \n",
    "    'Чем полезен пуэр',\n",
    "    'Чем полезен улун',\n",
    "    \n",
    "    'Какая стоимость пуэра',\n",
    "    'Какая стоимость улуна',\n",
    "    \n",
    "    'Какой чай расслабляет',\n",
    "    'Какой чай жмыхает',\n",
    "    'Какой чай выпить чтобы проснуться',\n",
    "    \n",
    "    'Какой чай можно пить на утро',\n",
    "    'Какой чай можно пить на ночь',\n",
    "    'Какой чай можно пить утром',\n",
    "    'Какой чай можно пить ночью'\n",
    "]"
   ]
  },
  {
   "cell_type": "code",
   "execution_count": 18,
   "metadata": {},
   "outputs": [
    {
     "name": "stdout",
     "output_type": "stream",
     "text": [
      "Вопрос 1: При какой температуре заварить пуэр?\n",
      "Ответ: Пуэр надо заваривать при 96 градусах Цельсия\n",
      "\n",
      "Вопрос 2: Какова температура воды при заварке пуэра?\n",
      "Ответ: Пуэр надо заваривать при 96 градусах Цельсия\n",
      "\n",
      "Вопрос 3: При какой температуре заварить улун?\n",
      "Ответ: Улун надо заваривать при 88 градусах Цельсия\n",
      "\n",
      "Вопрос 4: Какова температура воды при заварке улуна?\n",
      "Ответ: Улун надо заваривать при 88 градусах Цельсия\n",
      "\n",
      "Вопрос 5: При какой температуре заварить черный чаек?\n",
      "Ответ: Черный чай надо заваривать при 100 градусах Цельсия\n",
      "\n",
      "Вопрос 6: При какой температуре заварить зеленый чаек?\n",
      "Ответ: Зеленый чай надо заваривать при 94 градусах Цельсия\n",
      "\n",
      "Вопрос 7: Сколько грамм пуэра насыпать на кружку воды?\n",
      "Ответ: Нужно 4 грамма на кружку\n",
      "\n",
      "Вопрос 8: Сколько грамм зеленого насыпать на кружку воды?\n",
      "Ответ: Нужно 4 грамма на кружку\n",
      "\n",
      "Вопрос 9: Сколько грамм черного насыпать на кружку воды?\n",
      "Ответ: Нужно 5 грамм на кружку\n",
      "\n",
      "Вопрос 10: Сколько грамм улуна насыпать на кружку воды?\n",
      "Ответ: Нужно 6 грамм на кружку\n",
      "\n",
      "Вопрос 11: Сколько грамм пуэра надо на одну кружку воды?\n",
      "Ответ: Нужно 4 грамма на кружку\n",
      "\n",
      "Вопрос 12: Сколько грамм улуна надо на одну кружку воды?\n",
      "Ответ: Нужно 6 грамм на кружку\n",
      "\n",
      "Вопрос 13: Как правильно приготовить пуэр?\n",
      "Ответ: Заварить 4 грамма при 96 градусах\n",
      "\n",
      "Вопрос 14: Как правильно приготовить улун?\n",
      "Ответ: Заварить 4 грамма при 92 градусах\n",
      "\n",
      "Вопрос 15: Как правильно приготовить зеленый чаёк?\n",
      "Ответ: Заварить 3 грамма при 95 градусах\n",
      "\n",
      "Вопрос 16: Как правильно приготовить черный чаёк?\n",
      "Ответ: Заварить 2 грамма при 91 градусах\n",
      "\n",
      "Вопрос 17: Как правильно заварить черный чаёк?\n",
      "Ответ: Заварить 2 грамма при 91 градусах\n",
      "\n",
      "Вопрос 18: Чем полезен пуэр?\n",
      "Ответ: Бодрит\n",
      "\n",
      "Вопрос 19: Чем полезен улун?\n",
      "Ответ: Расслабляет\n",
      "\n",
      "Вопрос 20: Какая стоимость пуэра?\n",
      "Ответ: Средняя стоимость - 600 руб на 100 грамм\n",
      "\n",
      "Вопрос 21: Какая стоимость улуна?\n",
      "Ответ: Средняя стоимость - 500 руб на 100 грамм\n",
      "\n",
      "Вопрос 22: Какой чай расслабляет?\n",
      "Ответ: Как вариант, можно выпить улуна\n",
      "\n",
      "Вопрос 23: Какой чай жмыхает?\n",
      "Ответ: Определенно пуэр!\n",
      "\n",
      "Вопрос 24: Какой чай выпить чтобы проснуться?\n",
      "Ответ: Определенно пуэр!\n",
      "\n",
      "Вопрос 25: Какой чай можно пить на утро?\n",
      "Ответ: Пуэр может помочь взбодриться\n",
      "\n",
      "Вопрос 26: Какой чай можно пить на ночь?\n",
      "Ответ: На ночь лучше попить трав\n",
      "\n",
      "Вопрос 27: Какой чай можно пить утром?\n",
      "Ответ: Пуэр может помочь взбодриться\n",
      "\n",
      "Вопрос 28: Какой чай можно пить ночью?\n",
      "Ответ: На ночь лучше попить трав\n",
      "\n"
     ]
    }
   ],
   "source": [
    "for i in range(len(questionExamples)):\n",
    "    print(\"Вопрос \" + str(i + 1) + \": \" + questionExamples[i] + \"?\")\n",
    "    ans = getAnswer(questionExamples[i], normalTagMap, questions, answers)\n",
    "    print(\"Ответ: \" + ans + \"\\n\")"
   ]
  },
  {
   "cell_type": "code",
   "execution_count": null,
   "metadata": {},
   "outputs": [],
   "source": []
  }
 ],
 "metadata": {
  "kernelspec": {
   "display_name": "Python 3",
   "language": "python",
   "name": "python3"
  },
  "language_info": {
   "codemirror_mode": {
    "name": "ipython",
    "version": 3
   },
   "file_extension": ".py",
   "mimetype": "text/x-python",
   "name": "python",
   "nbconvert_exporter": "python",
   "pygments_lexer": "ipython3",
   "version": "3.8.3"
  }
 },
 "nbformat": 4,
 "nbformat_minor": 4
}
